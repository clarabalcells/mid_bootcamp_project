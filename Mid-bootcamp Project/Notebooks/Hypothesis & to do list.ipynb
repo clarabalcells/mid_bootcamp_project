{
 "cells": [
  {
   "cell_type": "code",
   "execution_count": 1,
   "id": "684d6cdc",
   "metadata": {},
   "outputs": [],
   "source": [
    "#TO DO LIST\n",
    "\n",
    "#LISTA DE TODAS LAS REGIONES QUE HAY\n",
    "\n",
    "#COMPARAR PRECIO DE UN AÑO A OTRO EN GENERAL\n",
    "\n",
    "##COMPARAR PRECIO DE UN AÑO A OTRO POR REGION\n",
    "\n",
    "#CONVENTIONAL VS ORGANIC. CUAL HA SUBIDO MAS Y COMPARAR PRECIO\n",
    "\n",
    "#TRY TO FIND FAV KIND OF AVOCADO AMONGST THE 3 TYPES\n",
    "\n",
    "#UNIT ALONE VS UNIT WITHIN A BAG\n",
    "\n",
    "#RENAME COLUMN TITLE \n",
    "\n",
    "#SEPARATE TOTAL US FROM THE STATES IN THE STATES COLUMN\n",
    "\n",
    "# RENAME SOME STATES NAMES\n",
    "\n",
    "#CREATE NAME FOR EVERY YEAR/STATE\n",
    "\n",
    "#4046: non-organic small/medium Hass Avocados (~3-5 oz)\n",
    "#4225: non-organic large Hass Avocados (~8-10 oz)\n",
    "#4770: non-organic extra large Hass Avocados (~10-15 oz)\n",
    "\n",
    "\n",
    "# SEPARATE Total number of avocados sold THROUGHOUT THE YEARS\n",
    "\n"
   ]
  }
 ],
 "metadata": {
  "kernelspec": {
   "display_name": "midbootcampproject",
   "language": "python",
   "name": "midbootcampproject"
  },
  "language_info": {
   "codemirror_mode": {
    "name": "ipython",
    "version": 3
   },
   "file_extension": ".py",
   "mimetype": "text/x-python",
   "name": "python",
   "nbconvert_exporter": "python",
   "pygments_lexer": "ipython3",
   "version": "3.9.13"
  }
 },
 "nbformat": 4,
 "nbformat_minor": 5
}
